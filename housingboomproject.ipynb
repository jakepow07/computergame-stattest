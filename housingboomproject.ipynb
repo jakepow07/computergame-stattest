{
 "cells": [
  {
   "cell_type": "code",
   "execution_count": 33,
   "id": "6f0378fd",
   "metadata": {},
   "outputs": [
    {
     "name": "stdout",
     "output_type": "stream",
     "text": [
      "%pylab is deprecated, use %matplotlib inline and import the required libraries.\n",
      "Populating the interactive namespace from numpy and matplotlib\n"
     ]
    },
    {
     "data": {
      "text/html": [
       "<div>\n",
       "<style scoped>\n",
       "    .dataframe tbody tr th:only-of-type {\n",
       "        vertical-align: middle;\n",
       "    }\n",
       "\n",
       "    .dataframe tbody tr th {\n",
       "        vertical-align: top;\n",
       "    }\n",
       "\n",
       "    .dataframe thead th {\n",
       "        text-align: right;\n",
       "    }\n",
       "</style>\n",
       "<table border=\"1\" class=\"dataframe\">\n",
       "  <thead>\n",
       "    <tr style=\"text-align: right;\">\n",
       "      <th></th>\n",
       "      <th>Region</th>\n",
       "      <th>City</th>\n",
       "      <th>Q420value</th>\n",
       "      <th>Q222value</th>\n",
       "      <th>percentchange</th>\n",
       "      <th>Change</th>\n",
       "    </tr>\n",
       "  </thead>\n",
       "  <tbody>\n",
       "    <tr>\n",
       "      <th>0</th>\n",
       "      <td>MW</td>\n",
       "      <td>Madison, WI</td>\n",
       "      <td>285000</td>\n",
       "      <td>410100</td>\n",
       "      <td>43.9</td>\n",
       "      <td>125100</td>\n",
       "    </tr>\n",
       "    <tr>\n",
       "      <th>1</th>\n",
       "      <td>MW</td>\n",
       "      <td>Columbus, Ohio</td>\n",
       "      <td>219000</td>\n",
       "      <td>322200</td>\n",
       "      <td>47.1</td>\n",
       "      <td>103200</td>\n",
       "    </tr>\n",
       "    <tr>\n",
       "      <th>2</th>\n",
       "      <td>MW</td>\n",
       "      <td>Salt Lake City, Utah</td>\n",
       "      <td>335000</td>\n",
       "      <td>605000</td>\n",
       "      <td>80.6</td>\n",
       "      <td>270000</td>\n",
       "    </tr>\n",
       "    <tr>\n",
       "      <th>3</th>\n",
       "      <td>MW</td>\n",
       "      <td>Grand Rapids, Mich</td>\n",
       "      <td>210000</td>\n",
       "      <td>315300</td>\n",
       "      <td>50.1</td>\n",
       "      <td>105300</td>\n",
       "    </tr>\n",
       "    <tr>\n",
       "      <th>4</th>\n",
       "      <td>MW</td>\n",
       "      <td>Omaha, Neb</td>\n",
       "      <td>200000</td>\n",
       "      <td>281300</td>\n",
       "      <td>40.7</td>\n",
       "      <td>81300</td>\n",
       "    </tr>\n",
       "  </tbody>\n",
       "</table>\n",
       "</div>"
      ],
      "text/plain": [
       "  Region                  City  Q420value  Q222value  percentchange  Change\n",
       "0     MW           Madison, WI     285000     410100           43.9  125100\n",
       "1     MW        Columbus, Ohio     219000     322200           47.1  103200\n",
       "2     MW  Salt Lake City, Utah     335000     605000           80.6  270000\n",
       "3     MW    Grand Rapids, Mich     210000     315300           50.1  105300\n",
       "4     MW            Omaha, Neb     200000     281300           40.7   81300"
      ]
     },
     "execution_count": 33,
     "metadata": {},
     "output_type": "execute_result"
    }
   ],
   "source": [
    "import pandas as pd\n",
    "import matplotlib.pyplot as plt\n",
    "import numpy as np\n",
    "import scipy.stats as stats\n",
    "import seaborn as sns\n",
    "from matplotlib import rcParams\n",
    "\n",
    "%matplotlib inline \n",
    "%pylab inline \n",
    "\n",
    "df = pd.read_csv('/Users/jakepowell/Desktop/housingrecessionproject/housingboom2.csv')\n",
    "df.head()"
   ]
  },
  {
   "cell_type": "code",
   "execution_count": 7,
   "id": "e94108b1",
   "metadata": {},
   "outputs": [
    {
     "data": {
      "text/plain": [
       "45"
      ]
     },
     "execution_count": 7,
     "metadata": {},
     "output_type": "execute_result"
    }
   ],
   "source": [
    "df.Region.count()"
   ]
  },
  {
   "cell_type": "code",
   "execution_count": 11,
   "id": "51662b95",
   "metadata": {},
   "outputs": [
    {
     "data": {
      "text/html": [
       "<div>\n",
       "<style scoped>\n",
       "    .dataframe tbody tr th:only-of-type {\n",
       "        vertical-align: middle;\n",
       "    }\n",
       "\n",
       "    .dataframe tbody tr th {\n",
       "        vertical-align: top;\n",
       "    }\n",
       "\n",
       "    .dataframe thead th {\n",
       "        text-align: right;\n",
       "    }\n",
       "</style>\n",
       "<table border=\"1\" class=\"dataframe\">\n",
       "  <thead>\n",
       "    <tr style=\"text-align: right;\">\n",
       "      <th></th>\n",
       "      <th>Region</th>\n",
       "      <th>City</th>\n",
       "      <th>Q420value</th>\n",
       "      <th>Q222value</th>\n",
       "      <th>% Change</th>\n",
       "    </tr>\n",
       "  </thead>\n",
       "  <tbody>\n",
       "    <tr>\n",
       "      <th>40</th>\n",
       "      <td>W</td>\n",
       "      <td>San Diego, Cali</td>\n",
       "      <td>620000</td>\n",
       "      <td>965900</td>\n",
       "      <td>55.8</td>\n",
       "    </tr>\n",
       "    <tr>\n",
       "      <th>41</th>\n",
       "      <td>W</td>\n",
       "      <td>Ogden, Utah</td>\n",
       "      <td>289500</td>\n",
       "      <td>518700</td>\n",
       "      <td>79.2</td>\n",
       "    </tr>\n",
       "    <tr>\n",
       "      <th>42</th>\n",
       "      <td>W</td>\n",
       "      <td>Spokane, WA</td>\n",
       "      <td>280000</td>\n",
       "      <td>458100</td>\n",
       "      <td>63.6</td>\n",
       "    </tr>\n",
       "    <tr>\n",
       "      <th>43</th>\n",
       "      <td>W</td>\n",
       "      <td>Colorado Springs, CO</td>\n",
       "      <td>345000</td>\n",
       "      <td>480900</td>\n",
       "      <td>39.4</td>\n",
       "    </tr>\n",
       "    <tr>\n",
       "      <th>44</th>\n",
       "      <td>W</td>\n",
       "      <td>Seattle, WA</td>\n",
       "      <td>525000</td>\n",
       "      <td>818900</td>\n",
       "      <td>56.0</td>\n",
       "    </tr>\n",
       "  </tbody>\n",
       "</table>\n",
       "</div>"
      ],
      "text/plain": [
       "   Region                  City  Q420value  Q222value  % Change\n",
       "40      W       San Diego, Cali     620000     965900      55.8\n",
       "41      W           Ogden, Utah     289500     518700      79.2\n",
       "42      W           Spokane, WA     280000     458100      63.6\n",
       "43      W  Colorado Springs, CO     345000     480900      39.4\n",
       "44      W           Seattle, WA     525000     818900      56.0"
      ]
     },
     "execution_count": 11,
     "metadata": {},
     "output_type": "execute_result"
    }
   ],
   "source": [
    "df.tail()\n"
   ]
  },
  {
   "cell_type": "code",
   "execution_count": 26,
   "id": "55102d4d",
   "metadata": {},
   "outputs": [
    {
     "data": {
      "text/plain": [
       "<AxesSubplot:title={'center':'%Change'}, xlabel='Region'>"
      ]
     },
     "execution_count": 26,
     "metadata": {},
     "output_type": "execute_result"
    },
    {
     "data": {
      "image/png": "[encoded data removed]",
      "text/plain": [
       "<Figure size 432x288 with 1 Axes>"
      ]
     },
     "metadata": {
      "needs_background": "light"
     },
     "output_type": "display_data"
    }
   ],
   "source": [
    "import statsmodels.formula.api as sm\n",
    "from statsmodels.formula.api import ols\n",
    "\n",
    "df.boxplot('% Change', by='Region')\n"
   ]
  },
  {
   "cell_type": "code",
   "execution_count": 20,
   "id": "89d133ef",
   "metadata": {},
   "outputs": [
    {
     "data": {
      "text/plain": [
       "<AxesSubplot:title={'center':'Change'}, xlabel='Region'>"
      ]
     },
     "execution_count": 20,
     "metadata": {},
     "output_type": "execute_result"
    },
    {
     "data": {
      "image/png": "[encoded data removed]",
      "text/plain": [
       "<Figure size 432x288 with 1 Axes>"
      ]
     },
     "metadata": {
      "needs_background": "light"
     },
     "output_type": "display_data"
    }
   ],
   "source": [
    "df.boxplot('Change', by='Region')"
   ]
  },
  {
   "cell_type": "code",
   "execution_count": 36,
   "id": "af5e6f82",
   "metadata": {},
   "outputs": [
    {
     "name": "stdout",
     "output_type": "stream",
     "text": [
      "                sum_sq    df        F    PR(>F)\n",
      "Region     4002.794222   4.0  3.40982  0.017212\n",
      "Residual  11739.017778  40.0      NaN       NaN\n"
     ]
    }
   ],
   "source": [
    "import statsmodels.api as sm\n",
    "sm.stats.multipletests\n",
    "mod=ols('percentchange~Region', data=df).fit()\n",
    "aov_table = sm.stats.anova_lm(mod, typ=2)\n",
    "print(aov_table)"
   ]
  },
  {
   "cell_type": "code",
   "execution_count": null,
   "id": "c666629f",
   "metadata": {},
   "outputs": [],
   "source": []
  }
 ],
 "metadata": {
  "kernelspec": {
   "display_name": "Python 3 (ipykernel)",
   "language": "python",
   "name": "python3"
  },
  "language_info": {
   "codemirror_mode": {
    "name": "ipython",
    "version": 3
   },
   "file_extension": ".py",
   "mimetype": "text/x-python",
   "name": "python",
   "nbconvert_exporter": "python",
   "pygments_lexer": "ipython3",
   "version": "3.9.12"
  }
 },
 "nbformat": 4,
 "nbformat_minor": 5
}
